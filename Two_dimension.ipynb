{
 "cells": [
  {
   "cell_type": "code",
   "execution_count": 1,
   "id": "186afcbf",
   "metadata": {},
   "outputs": [],
   "source": [
    "import os\n",
    "\n",
    "os.chdir(\"C:\\\\Users\\\\h\")\n",
    "\n",
    "import Two_dimen \n",
    "\n",
    "\n",
    "\n"
   ]
  },
  {
   "cell_type": "code",
   "execution_count": 2,
   "id": "bcabbb51",
   "metadata": {},
   "outputs": [
    {
     "name": "stdout",
     "output_type": "stream",
     "text": [
      "  (1,2)\n"
     ]
    }
   ],
   "source": [
    "#creating object of Point class \n",
    "a=Two_dimen.Point(1,2)\n",
    "b=Two_dimen.Point(3,8)\n",
    "c=Two_dimen.Point(4,5)\n",
    "print(a)\n"
   ]
  },
  {
   "cell_type": "code",
   "execution_count": 3,
   "id": "494063af",
   "metadata": {},
   "outputs": [
    {
     "name": "stdout",
     "output_type": "stream",
     "text": [
      "(1,2) is point of First quadrant\n"
     ]
    }
   ],
   "source": [
    "# Checking quadrant of a point\n",
    "a.Check_quadrant()"
   ]
  },
  {
   "cell_type": "code",
   "execution_count": 4,
   "id": "705f7306",
   "metadata": {},
   "outputs": [
    {
     "name": "stdout",
     "output_type": "stream",
     "text": [
      "  (4,10)\n"
     ]
    }
   ],
   "source": [
    "#adding two points\n",
    "a+b"
   ]
  },
  {
   "cell_type": "code",
   "execution_count": 5,
   "id": "881cac40",
   "metadata": {},
   "outputs": [
    {
     "name": "stdout",
     "output_type": "stream",
     "text": [
      "  (-2,-6)\n"
     ]
    }
   ],
   "source": [
    "#subtracting two points\n",
    "a-b"
   ]
  },
  {
   "cell_type": "code",
   "execution_count": 6,
   "id": "eab72f60",
   "metadata": {},
   "outputs": [
    {
     "data": {
      "text/plain": [
       "6.32"
      ]
     },
     "execution_count": 6,
     "metadata": {},
     "output_type": "execute_result"
    }
   ],
   "source": [
    "# Distance between two points\n",
    "a.Distance(b)\n"
   ]
  },
  {
   "cell_type": "code",
   "execution_count": 7,
   "id": "af0dbb88",
   "metadata": {},
   "outputs": [
    {
     "name": "stdout",
     "output_type": "stream",
     "text": [
      "  (2.0,5.0)\n"
     ]
    }
   ],
   "source": [
    "# Mid point of line joining two points\n",
    "\n",
    "a.Mid_point(b)"
   ]
  },
  {
   "cell_type": "code",
   "execution_count": 8,
   "id": "d9239786",
   "metadata": {},
   "outputs": [
    {
     "data": {
      "text/plain": [
       "19"
      ]
     },
     "execution_count": 8,
     "metadata": {},
     "output_type": "execute_result"
    }
   ],
   "source": [
    "# Dot Product \n",
    "\n",
    "a.Dot_product(b)"
   ]
  },
  {
   "cell_type": "code",
   "execution_count": 9,
   "id": "b0faf6c7",
   "metadata": {},
   "outputs": [
    {
     "name": "stdout",
     "output_type": "stream",
     "text": [
      "please enter the ratio \n",
      "2\n",
      "5\n",
      "Please select how you want to divide\n",
      "                 1 for internal division \n",
      "                 2 for external division \n",
      "1\n",
      "  (1.57,3.71)\n"
     ]
    }
   ],
   "source": [
    "# Coordinates of point which divides line segment joining a and b in ratio m:n \n",
    "\n",
    "a.Section_formula(b)"
   ]
  },
  {
   "cell_type": "code",
   "execution_count": 10,
   "id": "dc16fc2d",
   "metadata": {},
   "outputs": [
    {
     "data": {
      "text/plain": [
       "6.0"
      ]
     },
     "execution_count": 10,
     "metadata": {},
     "output_type": "execute_result"
    }
   ],
   "source": [
    "# Area of Triangle formed by 3 points\n",
    "a=Two_dimen.Point(1,2)\n",
    "b=Two_dimen.Point(3,8)\n",
    "c=Two_dimen.Point(4,5)\n",
    "\n",
    "a.Area_of_triangle(b,c)"
   ]
  },
  {
   "cell_type": "code",
   "execution_count": 11,
   "id": "e9a4b96b",
   "metadata": {},
   "outputs": [
    {
     "name": "stdout",
     "output_type": "stream",
     "text": [
      "These points are not Collinear\n"
     ]
    }
   ],
   "source": [
    "# Checking if three points are collinear or not\n",
    "\n",
    "a=Two_dimen.Point(1,2)\n",
    "b=Two_dimen.Point(3,8)\n",
    "c=Two_dimen.Point(4,5)\n",
    "\n",
    "b.Is_collinear(a,c)"
   ]
  },
  {
   "cell_type": "code",
   "execution_count": 12,
   "id": "cbe7fac7",
   "metadata": {},
   "outputs": [
    {
     "name": "stdout",
     "output_type": "stream",
     "text": [
      "These points are Collinear\n"
     ]
    }
   ],
   "source": [
    "# collinear points\n",
    "a=Two_dimen.Point(1,2)\n",
    "b=Two_dimen.Point(1,8)\n",
    "c=Two_dimen.Point(1,5)\n",
    "\n",
    "a.Is_collinear(b,c)\n"
   ]
  },
  {
   "cell_type": "code",
   "execution_count": 13,
   "id": "3b7dbbae",
   "metadata": {},
   "outputs": [
    {
     "data": {
      "text/plain": [
       "3.0"
      ]
     },
     "execution_count": 13,
     "metadata": {},
     "output_type": "execute_result"
    }
   ],
   "source": [
    "# slope of line joining through two points \n",
    "a=Two_dimen.Point(1,2)\n",
    "b=Two_dimen.Point(3,8)\n",
    "\n",
    "a.Slope(b)\n"
   ]
  },
  {
   "cell_type": "code",
   "execution_count": 14,
   "id": "ed194154",
   "metadata": {},
   "outputs": [
    {
     "data": {
      "text/plain": [
       "5.0"
      ]
     },
     "execution_count": 14,
     "metadata": {},
     "output_type": "execute_result"
    }
   ],
   "source": [
    "# intercept of line joining two points\n",
    "\n",
    "a=Two_dimen.Point(1,2)\n",
    "b=Two_dimen.Point(3,8)\n",
    "\n",
    "a.Intercept(b)\n",
    "\n"
   ]
  },
  {
   "cell_type": "code",
   "execution_count": 15,
   "id": "fe885e81",
   "metadata": {},
   "outputs": [
    {
     "name": "stdout",
     "output_type": "stream",
     "text": [
      "Y=3.0X+5.0\n"
     ]
    }
   ],
   "source": [
    "#  equation of line joining two points\n",
    "\n",
    "a=Two_dimen.Point(1,2)\n",
    "b=Two_dimen.Point(3,8)\n",
    "\n",
    "a.Line_from_point(b)\n"
   ]
  },
  {
   "cell_type": "code",
   "execution_count": 24,
   "id": "5438dcbd",
   "metadata": {},
   "outputs": [
    {
     "name": "stdout",
     "output_type": "stream",
     "text": [
      "2X+5Y+7=0\n"
     ]
    }
   ],
   "source": [
    "# Line object creation \n",
    "\n",
    "l1=Two_dimen.Line(2,5,7)\n",
    "l2=Two_dimen.Line(9,3,4)\n",
    "\n",
    "print(l1)"
   ]
  },
  {
   "cell_type": "code",
   "execution_count": 25,
   "id": "ac29e924",
   "metadata": {},
   "outputs": [
    {
     "data": {
      "text/plain": [
       "-0.4"
      ]
     },
     "execution_count": 25,
     "metadata": {},
     "output_type": "execute_result"
    }
   ],
   "source": [
    "# slope of line \n",
    "\n",
    "\n",
    "l1.slope"
   ]
  },
  {
   "cell_type": "code",
   "execution_count": 18,
   "id": "601d82bc",
   "metadata": {},
   "outputs": [
    {
     "data": {
      "text/plain": [
       "1.4"
      ]
     },
     "execution_count": 18,
     "metadata": {},
     "output_type": "execute_result"
    }
   ],
   "source": [
    "# intercept of line\n",
    "\n",
    "l1.intercept"
   ]
  },
  {
   "cell_type": "code",
   "execution_count": 19,
   "id": "f5e0241e",
   "metadata": {},
   "outputs": [
    {
     "name": "stdout",
     "output_type": "stream",
     "text": [
      "The lines intersect at an angle of 49 degree\n"
     ]
    }
   ],
   "source": [
    "# Nature of two lines\n",
    "l1=Two_dimen.Line(2,5,7)\n",
    "l2=Two_dimen.Line(9,3,4)\n",
    "\n",
    "l1.Nature_of_lines(l2)\n"
   ]
  },
  {
   "cell_type": "code",
   "execution_count": 20,
   "id": "d557bf56",
   "metadata": {},
   "outputs": [
    {
     "name": "stdout",
     "output_type": "stream",
     "text": [
      "The lines are parallel\n"
     ]
    }
   ],
   "source": [
    "# Parallel lines\n",
    "l1=Two_dimen.Line(2,5,7)\n",
    "l2=Two_dimen.Line(2,5,4)\n",
    "\n",
    "l1.Nature_of_lines(l2)"
   ]
  },
  {
   "cell_type": "code",
   "execution_count": 21,
   "id": "7e1d2f8f",
   "metadata": {},
   "outputs": [
    {
     "name": "stdout",
     "output_type": "stream",
     "text": [
      "The lines are perpendicular\n"
     ]
    }
   ],
   "source": [
    "# Perpendicluar lines\n",
    "\n",
    "l1=Two_dimen.Line(2,3,5)\n",
    "l2=Two_dimen.Line(3,-2,1)\n",
    "l1.Nature_of_lines(l2)\n"
   ]
  },
  {
   "cell_type": "code",
   "execution_count": 31,
   "id": "5b13ac66",
   "metadata": {},
   "outputs": [
    {
     "data": {
      "text/plain": [
       "0.5570860145311556"
      ]
     },
     "execution_count": 31,
     "metadata": {},
     "output_type": "execute_result"
    }
   ],
   "source": [
    "# Distance between parallel lines\n",
    "\n",
    "l1=Two_dimen.Line(2,5,7)\n",
    "l2=Two_dimen.Line(2,5,4)\n",
    "\n",
    "l1.Distance_paralell_lines(l2)\n"
   ]
  },
  {
   "cell_type": "code",
   "execution_count": 38,
   "id": "325f96a9",
   "metadata": {},
   "outputs": [
    {
     "data": {
      "text/plain": [
       "9.84"
      ]
     },
     "execution_count": 38,
     "metadata": {},
     "output_type": "execute_result"
    }
   ],
   "source": [
    "# Line and point\n",
    "l=Two_dimen.Line(2,5,7)\n",
    "p=Two_dimen.Point(3,8)\n",
    "\n",
    "u=Two_dimen.Line_and_point(p,l)\n",
    "\n",
    "u.Dist_point_line()\n",
    "\n",
    "\n"
   ]
  },
  {
   "cell_type": "code",
   "execution_count": null,
   "id": "9a6f9e66",
   "metadata": {},
   "outputs": [],
   "source": []
  }
 ],
 "metadata": {
  "kernelspec": {
   "display_name": "Python 3 (ipykernel)",
   "language": "python",
   "name": "python3"
  },
  "language_info": {
   "codemirror_mode": {
    "name": "ipython",
    "version": 3
   },
   "file_extension": ".py",
   "mimetype": "text/x-python",
   "name": "python",
   "nbconvert_exporter": "python",
   "pygments_lexer": "ipython3",
   "version": "3.10.0"
  }
 },
 "nbformat": 4,
 "nbformat_minor": 5
}
